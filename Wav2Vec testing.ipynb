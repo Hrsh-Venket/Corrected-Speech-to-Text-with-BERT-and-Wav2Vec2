{
 "cells": [
  {
   "cell_type": "code",
   "execution_count": 1,
   "metadata": {},
   "outputs": [
    {
     "name": "stdout",
     "output_type": "stream",
     "text": [
      "04/22/2023 20:16:14 - INFO - huggingsound.speech_recognition.model - Loading model...\n"
     ]
    }
   ],
   "source": [
    "from huggingsound import SpeechRecognitionModel\n",
    "\n",
    "model = SpeechRecognitionModel(\"jonatasgrosman/wav2vec2-large-xlsr-53-english\")"
   ]
  },
  {
   "cell_type": "code",
   "execution_count": 2,
   "metadata": {},
   "outputs": [
    {
     "name": "stderr",
     "output_type": "stream",
     "text": [
      "100%|██████████| 1/1 [00:41<00:00, 41.99s/it]\n"
     ]
    }
   ],
   "source": [
    "audio_paths = [\"shaunakrecording.mp3\"]\n",
    "\n",
    "transcriptions = model.transcribe(audio_paths)"
   ]
  },
  {
   "cell_type": "code",
   "execution_count": 3,
   "metadata": {},
   "outputs": [
    {
     "name": "stdout",
     "output_type": "stream",
     "text": [
      "the b-movie by jerry sinfild the sound of buzzing bees can be heard according to all known laws of aviation that is no way or b t be able to fly its wings are too small to get its sart little body off the groun the be of course flies anywhay because bees don't care what humans think is possible barry benson barry is picking out ashort yellow black yellow black yellow black yellow black oh black-and-yellowlets shake it up a little janet benson baddy breakfast is ready bady coming hang on a second\n"
     ]
    }
   ],
   "source": [
    "print(transcriptions[0][\"transcription\"])"
   ]
  }
 ],
 "metadata": {
  "kernelspec": {
   "display_name": "base",
   "language": "python",
   "name": "python3"
  },
  "language_info": {
   "codemirror_mode": {
    "name": "ipython",
    "version": 3
   },
   "file_extension": ".py",
   "mimetype": "text/x-python",
   "name": "python",
   "nbconvert_exporter": "python",
   "pygments_lexer": "ipython3",
   "version": "3.9.5"
  },
  "orig_nbformat": 4
 },
 "nbformat": 4,
 "nbformat_minor": 2
}
