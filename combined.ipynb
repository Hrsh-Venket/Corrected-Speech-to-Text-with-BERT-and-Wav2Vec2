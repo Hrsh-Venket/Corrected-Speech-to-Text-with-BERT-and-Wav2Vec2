{
 "cells": [
  {
   "cell_type": "code",
   "execution_count": 37,
   "metadata": {},
   "outputs": [
    {
     "name": "stdout",
     "output_type": "stream",
     "text": [
      "04/25/2023 18:59:13 - INFO - huggingsound.speech_recognition.model - Loading model...\n"
     ]
    }
   ],
   "source": [
    "from huggingsound import SpeechRecognitionModel\n",
    "\n",
    "w2vmodel = SpeechRecognitionModel(\"jonatasgrosman/wav2vec2-large-xlsr-53-english\")\n",
    "\n",
    "\n",
    "from transformers import pipeline\n",
    "from transformers import logging\n",
    "logging.set_verbosity_error() #change'error' to 'warning' or remove this if you want to see the warning\n",
    "import numpy as np\n",
    "unmasker = pipeline('fill-mask', model='bert-base-uncased')\n",
    "from transformers import BertTokenizer, BertModel\n",
    "tokenizer = BertTokenizer.from_pretrained('bert-base-uncased')\n",
    "model = BertModel.from_pretrained(\"bert-base-uncased\")"
   ]
  },
  {
   "cell_type": "code",
   "execution_count": 38,
   "metadata": {},
   "outputs": [],
   "source": [
    "def levenshtein_distance(s, t):\n",
    "    m, n = len(s), len(t)\n",
    "    d = [[0] * (n+1) for _ in range(m+1)]\n",
    "    \n",
    "    for i in range(m+1):\n",
    "        d[i][0] = i\n",
    "    \n",
    "    for j in range(n+1):\n",
    "        d[0][j] = j\n",
    "        \n",
    "    for j in range(1, n+1):\n",
    "        for i in range(1, m+1):\n",
    "            if s[i-1] == t[j-1]:\n",
    "                d[i][j] = d[i-1][j-1]\n",
    "            else:\n",
    "                d[i][j] = 1 + min(d[i-1][j], d[i][j-1], d[i-1][j-1])\n",
    "                \n",
    "    return d[m][n]"
   ]
  },
  {
   "cell_type": "code",
   "execution_count": 39,
   "metadata": {},
   "outputs": [],
   "source": [
    "def collate(input):\n",
    "    pun_marks = [\",\", \".\", \"?\", \"!\", \";\", \":\", \"-\", \"—\", \"(\", \")\", \"[\", \"]\", \"{\", \"}\", \"'\", \"\\\"\", \"`\"]\n",
    "    output = \"\"\n",
    "    Capital = True\n",
    "    Dash = False\n",
    "    for i in range(len(input)):\n",
    "        if input[i] in pun_marks:\n",
    "            output += input[i]\n",
    "            if input[i] in [\".\", \"(\"]:\n",
    "                Capital = True\n",
    "            if input[i] in [\"-\", \"'\"]:\n",
    "                Dash = True\n",
    "            else:\n",
    "                Dash = False\n",
    "        else:\n",
    "            str = \"\"\n",
    "            if (Dash == False):\n",
    "                str += \" \"\n",
    "            if Capital:\n",
    "                str += input[i].capitalize()\n",
    "                Capital = False\n",
    "            else:\n",
    "                str += input[i]\n",
    "            output += str\n",
    "    return output"
   ]
  },
  {
   "cell_type": "code",
   "execution_count": 48,
   "metadata": {},
   "outputs": [
    {
     "name": "stderr",
     "output_type": "stream",
     "text": [
      "100%|██████████| 1/1 [00:04<00:00,  4.15s/it]\n"
     ]
    },
    {
     "data": {
      "text/plain": [
       "['hello',\n",
       " 'my',\n",
       " 'name',\n",
       " 'is',\n",
       " 'current',\n",
       " 'and',\n",
       " 'i',\n",
       " 'like',\n",
       " 'computer',\n",
       " 'scients',\n",
       " 'the',\n",
       " 'oh',\n",
       " 'is',\n",
       " 'that']"
      ]
     },
     "execution_count": 48,
     "metadata": {},
     "output_type": "execute_result"
    }
   ],
   "source": [
    "audio_paths = [\"karanrecording.mp3\"]\n",
    "\n",
    "transcriptions = w2vmodel.transcribe(audio_paths)\n",
    "\n",
    "input = transcriptions[0][\"transcription\"]\n",
    "input = input.split()\n",
    "input"
   ]
  },
  {
   "cell_type": "code",
   "execution_count": 45,
   "metadata": {},
   "outputs": [],
   "source": [
    "for t in range(1):\n",
    "    for i in range(len(input)):\n",
    "        temp = input[i]\n",
    "        token = tokenizer(temp)['input_ids'][1]\n",
    "        input[i] = \"[MASK]\"\n",
    "        apiint = unmasker(' '.join(input))\n",
    "        dist = []\n",
    "        for r in range(5):\n",
    "            # if (np.abs((apiint[r]['token'] - token)) < 2):\n",
    "            dist.append(levenshtein_distance(temp, apiint[r]['token_str']))\n",
    "            # print(dist)\n",
    "        lindex = 0\n",
    "        l = dist[0]\n",
    "        for r in range(5):\n",
    "            if dist[r] < l:\n",
    "                lindex = r\n",
    "                l = dist[r]\n",
    "        if l <= 2:\n",
    "            input[i] = apiint[lindex]['token_str']\n",
    "        else:\n",
    "            input[i] = temp\n",
    "            # if (levenshtein_distance(temp, apiint[r]['token_str']) <=2):\n",
    "            #     input[i] = apiint[r]['token_str']\n",
    "            #     break\n",
    "            #     # print(apiint[r]['token_str'])\n",
    "            # else:\n",
    "            #     input[i] = temp\n",
    "\n",
    "for t in range(1):\n",
    "    inndex = 1\n",
    "    for i in range(len(input)):\n",
    "        input.insert(inndex, \"[MASK]\")\n",
    "        # print(' '.join(input))\n",
    "        apiint = unmasker(' '.join(input))\n",
    "        if (apiint[0]['token'] < 1500):\n",
    "            input[inndex] = apiint[0][\"token_str\"]\n",
    "            inndex += 2\n",
    "        else:\n",
    "            del input[inndex]\n",
    "            inndex += 1"
   ]
  },
  {
   "cell_type": "code",
   "execution_count": 47,
   "metadata": {},
   "outputs": [
    {
     "data": {
      "text/plain": [
       "' Hello, my name is current, and, i love computer, scients the, oh, that.'"
      ]
     },
     "execution_count": 47,
     "metadata": {},
     "output_type": "execute_result"
    }
   ],
   "source": [
    "collate(input)\n",
    "# input.split()"
   ]
  }
 ],
 "metadata": {
  "kernelspec": {
   "display_name": "base",
   "language": "python",
   "name": "python3"
  },
  "language_info": {
   "codemirror_mode": {
    "name": "ipython",
    "version": 3
   },
   "file_extension": ".py",
   "mimetype": "text/x-python",
   "name": "python",
   "nbconvert_exporter": "python",
   "pygments_lexer": "ipython3",
   "version": "3.9.5"
  },
  "orig_nbformat": 4
 },
 "nbformat": 4,
 "nbformat_minor": 2
}
