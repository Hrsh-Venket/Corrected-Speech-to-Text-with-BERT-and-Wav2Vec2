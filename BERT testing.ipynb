{
 "cells": [
  {
   "cell_type": "code",
   "execution_count": 39,
   "metadata": {},
   "outputs": [],
   "source": [
    "# import torch\n",
    "# from transformers import pipeline\n",
    "# from transformers import AutoTokenizer, AutoModelForMaskedLM\n",
    "\n",
    "\n",
    "# from transformers import logging\n",
    "# logging.set_verbosity_error() #change 'error' to 'warning' or remove this if you want to see the warning\n",
    "\n",
    "# tokenizer = AutoTokenizer.from_pretrained(\"bert-base-uncased\")\n",
    "\n",
    "# model = AutoModelForMaskedLM.from_pretrained(\"bert-base-uncased\")\n",
    "\n",
    "\n",
    "# from transformers import BertTokenizer, BertModel\n",
    "# tokenizer = BertTokenizer.from_pretrained('bert-base-uncased')\n",
    "# model = BertModel.from_pretrained(\"bert-base-uncased\")\n",
    "# text = \"Replace me by any text you'd like.\"\n",
    "# encoded_input = tokenizer(text, return_tensors='pt')\n",
    "# output = model(**encoded_input)"
   ]
  },
  {
   "cell_type": "code",
   "execution_count": 40,
   "metadata": {},
   "outputs": [],
   "source": [
    "from transformers import pipeline\n",
    "from transformers import logging\n",
    "logging.set_verbosity_error() #change 'error' to 'warning' or remove this if you want to see the warning\n",
    "unmasker = pipeline('fill-mask', model='bert-base-uncased')\n"
   ]
  },
  {
   "cell_type": "code",
   "execution_count": 56,
   "metadata": {},
   "outputs": [
    {
     "data": {
      "text/plain": [
       "[{'score': 0.963080108165741,\n",
       "  'token': 2004,\n",
       "  'token_str': 'as',\n",
       "  'sequence': 'as far as you can'},\n",
       " {'score': 0.03365315869450569,\n",
       "  'token': 2061,\n",
       "  'token_str': 'so',\n",
       "  'sequence': 'so far as you can'},\n",
       " {'score': 0.0006201665964908898,\n",
       "  'token': 1000,\n",
       "  'token_str': '\"',\n",
       "  'sequence': '\" far as you can'},\n",
       " {'score': 0.00020694902923423797,\n",
       "  'token': 1998,\n",
       "  'token_str': 'and',\n",
       "  'sequence': 'and far as you can'},\n",
       " {'score': 0.00017363451479468495,\n",
       "  'token': 2021,\n",
       "  'token_str': 'but',\n",
       "  'sequence': 'but far as you can'}]"
      ]
     },
     "execution_count": 56,
     "metadata": {},
     "output_type": "execute_result"
    }
   ],
   "source": [
    "unmasker(\"[MASK] far as you can\")"
   ]
  },
  {
   "cell_type": "code",
   "execution_count": null,
   "metadata": {},
   "outputs": [],
   "source": [
    "# IS: 2003\n",
    "# AS: 2004"
   ]
  }
 ],
 "metadata": {
  "kernelspec": {
   "display_name": "base",
   "language": "python",
   "name": "python3"
  },
  "language_info": {
   "codemirror_mode": {
    "name": "ipython",
    "version": 3
   },
   "file_extension": ".py",
   "mimetype": "text/x-python",
   "name": "python",
   "nbconvert_exporter": "python",
   "pygments_lexer": "ipython3",
   "version": "3.9.5"
  },
  "orig_nbformat": 4
 },
 "nbformat": 4,
 "nbformat_minor": 2
}
