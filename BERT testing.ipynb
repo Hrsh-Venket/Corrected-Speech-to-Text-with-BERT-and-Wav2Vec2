{
 "cells": [
  {
   "cell_type": "code",
   "execution_count": null,
   "metadata": {},
   "outputs": [],
   "source": [
    "# import torch\n",
    "# from transformers import pipeline\n",
    "# from transformers import AutoTokenizer, AutoModelForMaskedLM\n",
    "\n",
    "\n",
    "# from transformers import logging\n",
    "# logging.set_verbosity_error() #change 'error' to 'warning' or remove this if you want to see the warning\n",
    "\n",
    "# tokenizer = AutoTokenizer.from_pretrained(\"bert-base-uncased\")\n",
    "\n",
    "# model = AutoModelForMaskedLM.from_pretrained(\"bert-base-uncased\")\n",
    "\n",
    "\n",
    "# from transformers import BertTokenizer, BertModel\n",
    "# tokenizer = BertTokenizer.from_pretrained('bert-base-uncased')\n",
    "# model = BertModel.from_pretrained(\"bert-base-uncased\")\n",
    "# text = \"Replace me by any text you'd like.\"\n",
    "# encoded_input = tokenizer(text, return_tensors='pt')\n",
    "# output = model(**encoded_input)"
   ]
  },
  {
   "cell_type": "code",
   "execution_count": null,
   "metadata": {},
   "outputs": [],
   "source": [
    "from transformers import pipeline\n",
    "from transformers import logging\n",
    "logging.set_verbosity_error() #change'error' to 'warning' or remove this if you want to see the warning\n",
    "import numpy as np\n",
    "unmasker = pipeline('fill-mask', model='bert-base-uncased')\n",
    "\n",
    "\n",
    "from transformers import BertTokenizer, BertModel\n",
    "tokenizer = BertTokenizer.from_pretrained('bert-base-uncased')\n",
    "model = BertModel.from_pretrained(\"bert-base-uncased\")\n"
   ]
  },
  {
   "cell_type": "code",
   "execution_count": null,
   "metadata": {},
   "outputs": [],
   "source": [
    "def levenshtein_distance(s, t):\n",
    "    m, n = len(s), len(t)\n",
    "    d = [[0] * (n+1) for _ in range(m+1)]\n",
    "    \n",
    "    for i in range(m+1):\n",
    "        d[i][0] = i\n",
    "    \n",
    "    for j in range(n+1):\n",
    "        d[0][j] = j\n",
    "        \n",
    "    for j in range(1, n+1):\n",
    "        for i in range(1, m+1):\n",
    "            if s[i-1] == t[j-1]:\n",
    "                d[i][j] = d[i-1][j-1]\n",
    "            else:\n",
    "                d[i][j] = 1 + min(d[i-1][j], d[i][j-1], d[i-1][j-1])\n",
    "                \n",
    "    return d[m][n]"
   ]
  },
  {
   "cell_type": "code",
   "execution_count": 10,
   "metadata": {},
   "outputs": [
    {
     "data": {
      "text/plain": [
       "\"the b-movie by jerry sinfild the sound of buzzing bees can be heard according to all known laws of aviation that is no way or b t be able to fly its wings are too small to get its sart little body off the groun the be of course flies anywhay because bees don't care what humans think is possible barry benson barry is picking out ashort yellow black yellow black yellow black yellow black oh black-and-yellowlets shake it up a little janet benson baddy breakfast is ready bady coming hang on a second\""
      ]
     },
     "execution_count": 10,
     "metadata": {},
     "output_type": "execute_result"
    }
   ],
   "source": [
    "input = \"the b-movie by jerry sinfild the sound of buzzing bees can be heard according to all known laws of aviation that is no way or b t be able to fly its wings are too small to get its sart little body off the groun the be of course flies anywhay because bees don't care what humans think is possible barry benson barry is picking out ashort yellow black yellow black yellow black yellow black oh black-and-yellowlets shake it up a little janet benson baddy breakfast is ready bady coming hang on a second\".split(\" \")\n",
    "\n",
    "for t in range(1):\n",
    "    output = []\n",
    "    for i in range(len(input)):\n",
    "        temp = input[i]\n",
    "        token = tokenizer(temp)['input_ids'][1]\n",
    "        input[i] = \"[MASK]\"\n",
    "        apiint = unmasker(' '.join(input))\n",
    "        dist = []\n",
    "        for r in range(5):\n",
    "            # if (np.abs((apiint[r]['token'] - token)) < 2):\n",
    "            dist.append(levenshtein_distance(temp, apiint[r]['token_str']))\n",
    "            # print(dist)\n",
    "        lindex = 0\n",
    "        l = dist[0]\n",
    "        for r in range(5):\n",
    "            if dist[r] < l:\n",
    "                lindex = r\n",
    "                l = dist[r]\n",
    "        if l <= 2:\n",
    "            # input[i] = apiint[lindex]['token_str']\n",
    "            output.append(apiint[lindex]['token_str'])\n",
    "        else:\n",
    "            # input[i] = temp\n",
    "            output.append(temp)\n",
    "        input[i] = temp\n",
    "\n",
    "' '.join(input)"
   ]
  },
  {
   "cell_type": "code",
   "execution_count": 11,
   "metadata": {},
   "outputs": [
    {
     "data": {
      "text/plain": [
       "\"the b-movie by jerry sinfild the sound of buzzing bees can be heard according to all known laws of aviation that : o a . ' to be able to fly its wings are too small to get its fat little body off the ground to bee on course flies anywhay because bees don't care what humans think is possible barry benson barry is picking up ashort yellow black yellow black yellow black yellow black - black-and-yellowlets make it up a little janet benson baddy breakfast is ready bady coming hang on a second\""
      ]
     },
     "execution_count": 11,
     "metadata": {},
     "output_type": "execute_result"
    }
   ],
   "source": [
    "' '.join(output)"
   ]
  },
  {
   "cell_type": "code",
   "execution_count": null,
   "metadata": {},
   "outputs": [],
   "source": [
    "unmasker(\"of course flies [MASK] because\")"
   ]
  },
  {
   "cell_type": "code",
   "execution_count": null,
   "metadata": {},
   "outputs": [],
   "source": [
    "def collation(input):\n",
    "    pun_marks = [\",\", \".\", \"?\", \"!\", \";\", \":\", \"-\", \"—\", \"(\", \")\", \"[\", \"]\", \"{\", \"}\", \"'\", \"\\\"\", \"`\"]\n",
    "    output = \"\"\n",
    "    Capital = True\n",
    "    for i in range(len(input)):\n",
    "        if input[i] in pun_marks:\n",
    "            output += input[i]\n",
    "            if input[i] in [\".\", \"(\"]:\n",
    "                Capital = True\n",
    "        elif Capital:\n",
    "            output += \" \" \n",
    "            output += input[i].capitalize()\n",
    "            Capital = False\n",
    "        else:\n",
    "            output += \" \" \n",
    "            output += input[i]\n",
    "    return output"
   ]
  },
  {
   "cell_type": "code",
   "execution_count": null,
   "metadata": {},
   "outputs": [],
   "source": [
    "input = \"the b-movie by jerry sinfild the sound of buzzing bees can be heard according to all known laws of aviation that : o a o b to be able to fly its wings are too small to get its fat little body off the ground to be of course flies anywhay because bees don't care what humans think is possible barry benson barry is picking up ashort yellow black yellow black yellow black yellow black - black-and-yellowlets shake it up a little janet benson baddy breakfast is ready bady coming hang on a second\".split(\" \")\n",
    "\n",
    "for t in range(1):\n",
    "    inndex = 1\n",
    "    for i in range(len(input)):\n",
    "        input.insert(inndex, \"[MASK]\")\n",
    "        # print(' '.join(input))\n",
    "        apiint = unmasker(' '.join(input))\n",
    "        if (apiint[0]['token'] < 1500):\n",
    "            input[inndex] = apiint[0][\"token_str\"]\n",
    "            inndex += 2\n",
    "        else:\n",
    "            del input[inndex]\n",
    "            inndex += 1"
   ]
  },
  {
   "cell_type": "code",
   "execution_count": null,
   "metadata": {},
   "outputs": [],
   "source": [
    "collation(input)"
   ]
  },
  {
   "cell_type": "code",
   "execution_count": 9,
   "metadata": {},
   "outputs": [
    {
     "data": {
      "text/plain": [
       "[{'score': 0.8372400999069214,\n",
       "  'token': 10506,\n",
       "  'token_str': 'bee',\n",
       "  'sequence': \"the b - movie by jerry sinfild the sound of buzzing bees can be heard according to all known laws of aviation that is no way or b t be able to fly its wings are too small to get its sart little body off the groun the bee of course flies anywhay because bees don't care what humans think is possible barry benson barry is picking out ashort yellow black yellow black yellow black yellow black oh black - and - yellowlets shake it up a little janet benson baddy breakfast is ready bady coming hang on a second\"},\n",
       " {'score': 0.06955140829086304,\n",
       "  'token': 13734,\n",
       "  'token_str': 'bees',\n",
       "  'sequence': \"the b - movie by jerry sinfild the sound of buzzing bees can be heard according to all known laws of aviation that is no way or b t be able to fly its wings are too small to get its sart little body off the groun the bees of course flies anywhay because bees don't care what humans think is possible barry benson barry is picking out ashort yellow black yellow black yellow black yellow black oh black - and - yellowlets shake it up a little janet benson baddy breakfast is ready bady coming hang on a second\"},\n",
       " {'score': 0.014008047990500927,\n",
       "  'token': 26736,\n",
       "  'token_str': 'hive',\n",
       "  'sequence': \"the b - movie by jerry sinfild the sound of buzzing bees can be heard according to all known laws of aviation that is no way or b t be able to fly its wings are too small to get its sart little body off the groun the hive of course flies anywhay because bees don't care what humans think is possible barry benson barry is picking out ashort yellow black yellow black yellow black yellow black oh black - and - yellowlets shake it up a little janet benson baddy breakfast is ready bady coming hang on a second\"},\n",
       " {'score': 0.009214639663696289,\n",
       "  'token': 4743,\n",
       "  'token_str': 'bird',\n",
       "  'sequence': \"the b - movie by jerry sinfild the sound of buzzing bees can be heard according to all known laws of aviation that is no way or b t be able to fly its wings are too small to get its sart little body off the groun the bird of course flies anywhay because bees don't care what humans think is possible barry benson barry is picking out ashort yellow black yellow black yellow black yellow black oh black - and - yellowlets shake it up a little janet benson baddy breakfast is ready bady coming hang on a second\"},\n",
       " {'score': 0.007407889701426029,\n",
       "  'token': 4875,\n",
       "  'token_str': 'fly',\n",
       "  'sequence': \"the b - movie by jerry sinfild the sound of buzzing bees can be heard according to all known laws of aviation that is no way or b t be able to fly its wings are too small to get its sart little body off the groun the fly of course flies anywhay because bees don't care what humans think is possible barry benson barry is picking out ashort yellow black yellow black yellow black yellow black oh black - and - yellowlets shake it up a little janet benson baddy breakfast is ready bady coming hang on a second\"}]"
      ]
     },
     "execution_count": 9,
     "metadata": {},
     "output_type": "execute_result"
    }
   ],
   "source": [
    "unmasker(\"the b-movie by jerry sinfild the sound of buzzing bees can be heard according to all known laws of aviation that is no way or b t be able to fly its wings are too small to get its sart little body off the groun the [MASK] of course flies anywhay because bees don't care what humans think is possible barry benson barry is picking out ashort yellow black yellow black yellow black yellow black oh black-and-yellowlets shake it up a little janet benson baddy breakfast is ready bady coming hang on a second\")"
   ]
  }
 ],
 "metadata": {
  "kernelspec": {
   "display_name": "base",
   "language": "python",
   "name": "python3"
  },
  "language_info": {
   "codemirror_mode": {
    "name": "ipython",
    "version": 3
   },
   "file_extension": ".py",
   "mimetype": "text/x-python",
   "name": "python",
   "nbconvert_exporter": "python",
   "pygments_lexer": "ipython3",
   "version": "3.9.5"
  },
  "orig_nbformat": 4
 },
 "nbformat": 4,
 "nbformat_minor": 2
}
